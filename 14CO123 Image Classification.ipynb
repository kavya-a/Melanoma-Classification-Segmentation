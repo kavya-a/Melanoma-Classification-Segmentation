{
 "cells": [
  {
   "cell_type": "code",
   "execution_count": 74,
   "metadata": {},
   "outputs": [],
   "source": [
    "import numpy as np\n",
    "import os\n",
    "import random\n",
    "import cv2\n",
    "import keras\n",
    "from keras.models import Sequential,Input,Model\n",
    "from keras.layers import Conv2D\n",
    "from keras.layers.normalization import BatchNormalization\n",
    "from keras.layers.advanced_activations import LeakyReLU\n",
    "from sklearn.model_selection import train_test_split\n",
    "from matplotlib import pyplot as plt\n",
    "from keras.utils import to_categorical\n",
    "from keras.utils import np_utils\n",
    "from keras.optimizers import SGD\n",
    "from keras.layers.convolutional import Convolution2D\n",
    "from keras.layers.convolutional import MaxPooling2D\n",
    "from keras.layers.core import Activation\n",
    "from keras.layers.core import Flatten\n",
    "from keras.layers.core import Dense"
   ]
  },
  {
   "cell_type": "code",
   "execution_count": 75,
   "metadata": {},
   "outputs": [],
   "source": [
    "batch_size = 2000\n",
    "gt_all = os.listdir('gt')\n",
    "\n",
    "X = np.zeros((batch_size,64,64,3))\n",
    "y = np.zeros((batch_size))\n",
    "for a in range(batch_size):\n",
    "    i = random.randint(0,len(gt_all)-1)\n",
    "\n",
    "    name = gt_all[i]\n",
    "    name = name.replace('_segmentation','')\n",
    "    name = name.replace('png','jpg')\n",
    "    img = cv2.imread(os.path.join('gt',gt_all[i]))\n",
    "    thresh = 127\n",
    "    img = cv2.resize(img,(64,64))\n",
    "    img = cv2.threshold(img, thresh, 1, cv2.THRESH_BINARY)[1]\n",
    "    X[a] = img\n",
    "    if name in os.listdir('melanoma'):\n",
    "        img = cv2.imread(os.path.join('melanoma',name))\n",
    "        if img is not None:\n",
    "            img = cv2.resize(img,(64,64))\n",
    "            X[a] = np.multiply(X[a],img)\n",
    "            y[a] = 0\n",
    "    else:\n",
    "        img = cv2.imread(os.path.join('others',name))\n",
    "        if img is not None:\n",
    "            img = cv2.resize(img,(64,64))\n",
    "            X[a] = np.multiply(X[a],img)\n",
    "            y[a] = 1"
   ]
  },
  {
   "cell_type": "code",
   "execution_count": 79,
   "metadata": {},
   "outputs": [],
   "source": [
    "X_train, X_test, y_train, y_test = train_test_split(X, y, test_size=0.2, random_state=1)\n",
    "X_train, X_val, y_train, y_val = train_test_split(X_train, y_train, test_size=0.2, random_state=1)"
   ]
  },
  {
   "cell_type": "code",
   "execution_count": 80,
   "metadata": {},
   "outputs": [],
   "source": [
    "num_classes = 1\n",
    "batch_size = 50\n",
    "epochs = 10"
   ]
  },
  {
   "cell_type": "code",
   "execution_count": 93,
   "metadata": {},
   "outputs": [],
   "source": [
    "class_weights = [0.5, 2.2]"
   ]
  },
  {
   "cell_type": "code",
   "execution_count": 89,
   "metadata": {},
   "outputs": [
    {
     "name": "stderr",
     "output_type": "stream",
     "text": [
      "/anaconda3/envs/cv2/lib/python3.6/site-packages/ipykernel/__main__.py:4: UserWarning: Update your `Conv2D` call to the Keras 2 API: `Conv2D(20, (5, 5), input_shape=(64, 64, 3..., padding=\"same\")`\n",
      "/anaconda3/envs/cv2/lib/python3.6/site-packages/ipykernel/__main__.py:9: UserWarning: Update your `Conv2D` call to the Keras 2 API: `Conv2D(50, (5, 5), padding=\"same\")`\n"
     ]
    }
   ],
   "source": [
    "num_classes = 2\n",
    "model = Sequential()\n",
    "\n",
    "model.add(Convolution2D(20, 5, 5, border_mode=\"same\", input_shape=(64, 64, 3)))\n",
    "model.add(Activation(\"relu\"))\n",
    "model.add(MaxPooling2D(pool_size=(2, 2), strides=(2, 2)))\n",
    "\n",
    "# second set of CONV => RELU => POOL\n",
    "model.add(Convolution2D(50, 5, 5, border_mode=\"same\"))\n",
    "model.add(Activation(\"relu\"))\n",
    "model.add(MaxPooling2D(pool_size=(2, 2), strides=(2, 2)))\n",
    "\n",
    "# set of FC => RELU layers\n",
    "model.add(Flatten())\n",
    "model.add(Dense(500))\n",
    "model.add(Activation(\"relu\"))\n",
    "\n",
    "# softmax classifier\n",
    "model.add(Dense(num_classes))\n",
    "model.add(Activation(\"sigmoid\"))\n",
    "\n"
   ]
  },
  {
   "cell_type": "code",
   "execution_count": 82,
   "metadata": {},
   "outputs": [],
   "source": [
    "yLabels = np_utils.to_categorical(y, 2)"
   ]
  },
  {
   "cell_type": "code",
   "execution_count": 83,
   "metadata": {},
   "outputs": [],
   "source": [
    "X_train, X_test, y_train, y_test = train_test_split(X, yLabels, test_size=0.2, random_state=1)\n",
    "X_train, X_val, y_train, y_val = train_test_split(X_train, y_train, test_size=0.2, random_state=1)"
   ]
  },
  {
   "cell_type": "code",
   "execution_count": 55,
   "metadata": {},
   "outputs": [],
   "source": [
    "opt = SGD(lr=0.01)"
   ]
  },
  {
   "cell_type": "code",
   "execution_count": 90,
   "metadata": {},
   "outputs": [],
   "source": [
    "model.compile(loss=\"categorical_crossentropy\", optimizer=opt, metrics=[\"accuracy\"])"
   ]
  },
  {
   "cell_type": "code",
   "execution_count": 58,
   "metadata": {},
   "outputs": [
    {
     "name": "stdout",
     "output_type": "stream",
     "text": [
      "[INFO] training...\n",
      "Epoch 1/20\n"
     ]
    },
    {
     "name": "stderr",
     "output_type": "stream",
     "text": [
      "/anaconda3/envs/cv2/lib/python3.6/site-packages/keras/models.py:942: UserWarning: The `nb_epoch` argument in `fit` has been renamed `epochs`.\n",
      "  warnings.warn('The `nb_epoch` argument in `fit` '\n"
     ]
    },
    {
     "name": "stdout",
     "output_type": "stream",
     "text": [
      "1280/1280 [==============================] - 266s 208ms/step - loss: 3.2435 - acc: 0.7742\n",
      "Epoch 2/20\n",
      "1280/1280 [==============================] - 254s 199ms/step - loss: 2.9970 - acc: 0.8141\n",
      "Epoch 3/20\n",
      "1280/1280 [==============================] - 255s 199ms/step - loss: 2.9970 - acc: 0.8141\n",
      "Epoch 4/20\n",
      "1280/1280 [==============================] - 255s 200ms/step - loss: 2.9970 - acc: 0.8141\n",
      "Epoch 5/20\n",
      "1280/1280 [==============================] - 255s 199ms/step - loss: 2.9970 - acc: 0.8141\n",
      "Epoch 6/20\n",
      "1280/1280 [==============================] - 249s 195ms/step - loss: 2.9970 - acc: 0.8141\n",
      "Epoch 7/20\n",
      "1280/1280 [==============================] - 249s 195ms/step - loss: 2.9970 - acc: 0.8141\n",
      "Epoch 8/20\n",
      "1280/1280 [==============================] - 264s 206ms/step - loss: 2.9970 - acc: 0.8141\n",
      "Epoch 9/20\n",
      "1280/1280 [==============================] - 340s 265ms/step - loss: 2.9970 - acc: 0.8141\n",
      "Epoch 10/20\n",
      "1280/1280 [==============================] - 251s 196ms/step - loss: 2.9970 - acc: 0.8141\n",
      "Epoch 11/20\n",
      "1280/1280 [==============================] - 251s 196ms/step - loss: 2.9970 - acc: 0.8141\n",
      "Epoch 12/20\n",
      "1280/1280 [==============================] - 256s 200ms/step - loss: 2.9970 - acc: 0.8141\n",
      "Epoch 13/20\n",
      "1280/1280 [==============================] - 253s 197ms/step - loss: 2.9970 - acc: 0.8141\n",
      "Epoch 14/20\n",
      "1280/1280 [==============================] - 256s 200ms/step - loss: 2.9970 - acc: 0.8141\n",
      "Epoch 15/20\n",
      "1280/1280 [==============================] - 481s 376ms/step - loss: 2.9970 - acc: 0.8141\n",
      "Epoch 16/20\n",
      "1280/1280 [==============================] - 715s 559ms/step - loss: 2.9970 - acc: 0.8141\n",
      "Epoch 17/20\n",
      "1280/1280 [==============================] - 12249s 10s/step - loss: 2.9970 - acc: 0.8141\n",
      "Epoch 18/20\n",
      "1280/1280 [==============================] - 251s 196ms/step - loss: 2.9970 - acc: 0.8141\n",
      "Epoch 19/20\n",
      "1280/1280 [==============================] - 269s 210ms/step - loss: 2.9970 - acc: 0.8141\n",
      "Epoch 20/20\n",
      "1280/1280 [==============================] - 286s 223ms/step - loss: 2.9970 - acc: 0.8141\n",
      "[INFO] evaluating...\n",
      "400/400 [==============================] - 38s 94ms/step\n",
      "[INFO] accuracy: 81.00%\n"
     ]
    }
   ],
   "source": [
    "print(\"[INFO] training...\")\n",
    "model.fit(X_train, y_train, batch_size=128, nb_epoch=20, verbose=1)\n",
    "\n",
    "# show the accuracy on the testing set\n",
    "print(\"[INFO] evaluating...\")\n",
    "(loss, accuracy) = model.evaluate(X_test, y_test, batch_size=128, verbose=1)\n",
    "print(\"[INFO] accuracy: {:.2f}%\".format(accuracy * 100))\n"
   ]
  },
  {
   "cell_type": "code",
   "execution_count": 62,
   "metadata": {},
   "outputs": [],
   "source": [
    "predicted = model.predict(X_test)"
   ]
  },
  {
   "cell_type": "code",
   "execution_count": 67,
   "metadata": {},
   "outputs": [],
   "source": [
    "cm=confusion_matrix(y_test.argmax(axis=1), predicted.argmax(axis=1))"
   ]
  },
  {
   "cell_type": "code",
   "execution_count": 71,
   "metadata": {},
   "outputs": [],
   "source": [
    "def get_fscore(cm):\n",
    "    precision = cm[0][1]/(cm[1][1]+cm[0][1])\n",
    "    recall =  cm[0][1]/(cm[0][1]+cm[0][0])\n",
    "\n",
    "    f1 = 2*precision*recall/(precision+recall)\n",
    "    print(\"Melanoma F1 score:\",f1)\n",
    "   \n",
    "    precision = cm[1][1]/(cm[1][1]+cm[1][0])\n",
    "    recall =  cm[1][1]/(cm[1][1]+cm[0][1])\n",
    "\n",
    "    f1 = 2*precision*recall/(precision+recall)\n",
    "    print(\"Non-melanoma F1 score:\",f1)"
   ]
  },
  {
   "cell_type": "code",
   "execution_count": 72,
   "metadata": {},
   "outputs": [
    {
     "name": "stdout",
     "output_type": "stream",
     "text": [
      "Melanoma F1 score: 0.319327731092\n",
      "Non-melanoma F1 score: 0.895027624309\n"
     ]
    }
   ],
   "source": [
    "get_fscore(cm)"
   ]
  }
 ],
 "metadata": {
  "kernelspec": {
   "display_name": "Python [conda env:cv2]",
   "language": "python",
   "name": "conda-env-cv2-py"
  },
  "language_info": {
   "codemirror_mode": {
    "name": "ipython",
    "version": 3
   },
   "file_extension": ".py",
   "mimetype": "text/x-python",
   "name": "python",
   "nbconvert_exporter": "python",
   "pygments_lexer": "ipython3",
   "version": "3.6.4"
  }
 },
 "nbformat": 4,
 "nbformat_minor": 2
}
